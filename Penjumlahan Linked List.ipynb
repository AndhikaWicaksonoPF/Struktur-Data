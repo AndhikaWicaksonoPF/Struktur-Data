class LinkedList(object):
    def __init__ (self):
        self.head = None
        
    class Node():
        def __init__(self, value):
            self.value = value
            self.next = None
            self.prev = None

    def newNode(self, key):
        return self.Node(key)

    def push(self, new_data):

        new_node = self.Node(new_data)
        new_node.next = self.head
        self.head = new_node

    def sort(self):
        Ahead = self.Node(0)
        Dhead = self.Node(0)
        self.splitList(Ahead, Dhead)
        Ahead = Ahead.next
        Dhead = self.reverseList(Dhead)
        self.head = self.mergeList(Ahead, Dhead)

    def insertBetween(self, mid, value):
        if mid is None :
            print("No Node Available")
            return
        newNode = Node(value)
        newNode.next = mid.next
        mid.next = newNode

    def reverseList(self, Dhead):
        current = Dhead
        prev = None
        while current is not None:
            self._next = current.next
            current.next = prev
            prev = cerrent
            current = self._next
        Dhead = prev
        return Dhead

    def printList(self):
        temp = self.head
        while temp is not None:
            print(temp.value)
            temp = temp.next
        print("")

    def mergeList(self, head1, head2):
        if head1 == None:
            return head2
        if head2 == None:
            return head1
        temp = None
        if head1.value < head2.value :
            temp = head1
            head1.next = self.mergeList(head1.next, head2)

        else:
            temp = head2
            head2.next = self.mergeList(head1, head2.next)
            return temp
    #Ascn untuk Ascending
    #dscn untuk Descending
    def splitList(self, Ahead, Dhead):
        ascn = Ahead
        dscn = Dhead
        curr = self.head
        while curr is not None:
            ascn.next = curr
            ascn = ascn.next
            curr = curr.next
            if curr is not None:
                dscn.next = curr
                dscn = dscn.next
                curr = curr.next
            ascn.next = None
            dscn.next = None

    def reverse(self):
        prev = None
        current = self.head
        while(current is not None):
            next = current.next
            current.next = prev
            prev = current
            current = next
            self.head = prev

    def Next(self):
        a = self.Next
        return a

    def sortDescending(self):
        self.sort()
        self.reverse()

    def sum(self, llist):
        a = self.head
        b = llist.head

        sumList = LinkedList()
        carry = 0
        while a is not None or b is not None:
            if not a :
                x = 0 
            else :
                x = a.value
            if not b :
                y = 0
            else :
                y = b.value
            res = x + y + carry
            if res >=10:
                carry = 1
                remainder = res % 10
                sumList.push(remainder)
            else :
                carry = 0
                sumList.push(res)
            if a is not None:
                a = a.next
                if b is not None:
                    b = b.next

        if carry !=0:
            sumList.push(carry)

        sumList.reverse()
        return sumList
    
list1 = LinkedList()
list1.head = list1.newNode(1)
list1.head.next = list1.newNode(4)
list1.head.next.next = list1.newNode(8)
list1.head.next.next.next = list1.newNode(2)
list1.head.next.next.next.next = list1.newNode(8)
list1.head.next.next.next.next.next = list1.newNode(1)
list1.head.next.next.next.next.next.next = list1.newNode(9)

list2 = LinkedList()
list2.head = list2.newNode(1)
list2.head.next = list2.newNode(4)
list2.head.next.next = list2.newNode(7)
list2.head.next.next.next = list2.newNode(2)
list2.head.next.next.next.next = list2.newNode(7)
list2.head.next.next.next.next.next = list2.newNode(4)
list2.head.next.next.next.next.next.next = list2.newNode(8)

sumList = LinkedList()
sumList = list1.sum(list2)
sumList.printList()
